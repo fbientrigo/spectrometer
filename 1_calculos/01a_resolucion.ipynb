{
 "cells": [
  {
   "cell_type": "code",
   "execution_count": 1,
   "metadata": {},
   "outputs": [],
   "source": [
    "import numpy as np\n",
    "import matplotlib.pyplot as plt"
   ]
  },
  {
   "cell_type": "markdown",
   "metadata": {},
   "source": [
    "Este es el limite de resolución dada una divergencia del laser $\\Delta \\theta$ o luz que pasemos\n",
    "\n",
    "$$\n",
    "\\Delta \\theta = \\frac{\\Delta \\lambda}{d \\cos(\\theta_m)}\n",
    "$$\n",
    "\n",
    "$d = 1/N$ el espaciamiento de lineas para 1 milimetro"
   ]
  },
  {
   "cell_type": "code",
   "execution_count": 2,
   "metadata": {},
   "outputs": [],
   "source": [
    "delta_theta = 0.0147  # rad\n",
    "d = 1e-3 /600 # 1 / lineas por mm -> metros\n",
    "\n",
    "def theta_m(lam):\n",
    "    return lam/d\n"
   ]
  },
  {
   "cell_type": "code",
   "execution_count": 3,
   "metadata": {},
   "outputs": [
    {
     "data": {
      "text/plain": [
       "1.6666666666666667e-06"
      ]
     },
     "execution_count": 3,
     "metadata": {},
     "output_type": "execute_result"
    }
   ],
   "source": [
    "d"
   ]
  },
  {
   "cell_type": "code",
   "execution_count": 4,
   "metadata": {},
   "outputs": [],
   "source": [
    "def delta_lambda(theta_m):\n",
    "    return d * np.cos(theta_m) * delta_theta"
   ]
  },
  {
   "cell_type": "code",
   "execution_count": 5,
   "metadata": {},
   "outputs": [],
   "source": [
    "lam_min = 380e-9\n",
    "lam_max = 700e-9\n",
    "\n",
    "lam_arr = np.linspace(lam_min, lam_max, 500)\n",
    "delta_lambda_array = delta_lambda(theta_m(lam_arr))"
   ]
  },
  {
   "cell_type": "code",
   "execution_count": 6,
   "metadata": {},
   "outputs": [
    {
     "data": {
      "text/plain": [
       "[<matplotlib.lines.Line2D at 0x23fe1f8bdc0>]"
      ]
     },
     "execution_count": 6,
     "metadata": {},
     "output_type": "execute_result"
    },
    {
     "data": {
      "image/png": "[encoded data removed]",
      "text/plain": [
       "<Figure size 432x288 with 1 Axes>"
      ]
     },
     "metadata": {
      "needs_background": "light"
     },
     "output_type": "display_data"
    }
   ],
   "source": [
    "plt.plot(lam_arr, delta_lambda_array)"
   ]
  },
  {
   "cell_type": "markdown",
   "metadata": {},
   "source": [
    "Un error maximo con la luz infraroja, el cual puede reducirse pero queda en el mismo orden de magnitud\n",
    "$$\n",
    "\\Delta \\lambda \\propto 10 [nm]\n",
    "$$"
   ]
  }
 ],
 "metadata": {
  "language_info": {
   "name": "python"
  }
 },
 "nbformat": 4,
 "nbformat_minor": 2
}
